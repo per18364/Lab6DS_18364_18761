{
 "cells": [
  {
   "cell_type": "code",
   "execution_count": 4,
   "metadata": {},
   "outputs": [
    {
     "name": "stdout",
     "output_type": "stream",
     "text": [
      "Error al cargar el archivo .env.\n"
     ]
    },
    {
     "ename": "TypeError",
     "evalue": "Consumer key must be string or bytes, not NoneType",
     "output_type": "error",
     "traceback": [
      "\u001b[1;31m---------------------------------------------------------------------------\u001b[0m",
      "\u001b[1;31mTypeError\u001b[0m                                 Traceback (most recent call last)",
      "\u001b[1;32mc:\\Users\\yeyoc\\OneDrive\\Documentos\\UVG\\Data Science\\Lab6DS_18364_18761\\main.ipynb Cell 1\u001b[0m line \u001b[0;36m1\n\u001b[0;32m     <a href='vscode-notebook-cell:/c%3A/Users/yeyoc/OneDrive/Documentos/UVG/Data%20Science/Lab6DS_18364_18761/main.ipynb#W0sZmlsZQ%3D%3D?line=11'>12</a>\u001b[0m ACCESS_TOKEN_SECRET \u001b[39m=\u001b[39m os\u001b[39m.\u001b[39menviron\u001b[39m.\u001b[39mget(\u001b[39m'\u001b[39m\u001b[39mTWITTER_ACCESS_TOKEN_SECRET\u001b[39m\u001b[39m'\u001b[39m)\n\u001b[0;32m     <a href='vscode-notebook-cell:/c%3A/Users/yeyoc/OneDrive/Documentos/UVG/Data%20Science/Lab6DS_18364_18761/main.ipynb#W0sZmlsZQ%3D%3D?line=13'>14</a>\u001b[0m \u001b[39m# Autenticarse en Twitter\u001b[39;00m\n\u001b[1;32m---> <a href='vscode-notebook-cell:/c%3A/Users/yeyoc/OneDrive/Documentos/UVG/Data%20Science/Lab6DS_18364_18761/main.ipynb#W0sZmlsZQ%3D%3D?line=14'>15</a>\u001b[0m auth \u001b[39m=\u001b[39m tweepy\u001b[39m.\u001b[39;49mOAuthHandler(API_KEY, API_SECRET)\n\u001b[0;32m     <a href='vscode-notebook-cell:/c%3A/Users/yeyoc/OneDrive/Documentos/UVG/Data%20Science/Lab6DS_18364_18761/main.ipynb#W0sZmlsZQ%3D%3D?line=15'>16</a>\u001b[0m auth\u001b[39m.\u001b[39mset_access_token(ACCESS_TOKEN, ACCESS_TOKEN_SECRET)\n\u001b[0;32m     <a href='vscode-notebook-cell:/c%3A/Users/yeyoc/OneDrive/Documentos/UVG/Data%20Science/Lab6DS_18364_18761/main.ipynb#W0sZmlsZQ%3D%3D?line=16'>17</a>\u001b[0m api \u001b[39m=\u001b[39m tweepy\u001b[39m.\u001b[39mAPI(auth)\n",
      "File \u001b[1;32mc:\\Users\\yeyoc\\AppData\\Local\\Programs\\Python\\Python311\\Lib\\site-packages\\tweepy\\auth.py:124\u001b[0m, in \u001b[0;36mOAuthHandler.__init__\u001b[1;34m(self, consumer_key, consumer_secret, access_token, access_token_secret, callback)\u001b[0m\n\u001b[0;32m    118\u001b[0m \u001b[39mdef\u001b[39;00m \u001b[39m__init__\u001b[39m(\u001b[39mself\u001b[39m, consumer_key, consumer_secret, access_token\u001b[39m=\u001b[39m\u001b[39mNone\u001b[39;00m,\n\u001b[0;32m    119\u001b[0m              access_token_secret\u001b[39m=\u001b[39m\u001b[39mNone\u001b[39;00m, callback\u001b[39m=\u001b[39m\u001b[39mNone\u001b[39;00m):\n\u001b[0;32m    120\u001b[0m     warnings\u001b[39m.\u001b[39mwarn(\n\u001b[0;32m    121\u001b[0m         \u001b[39m\"\u001b[39m\u001b[39mOAuthHandler is deprecated; use OAuth1UserHandler instead.\u001b[39m\u001b[39m\"\u001b[39m,\n\u001b[0;32m    122\u001b[0m         \u001b[39mDeprecationWarning\u001b[39;00m\n\u001b[0;32m    123\u001b[0m     )\n\u001b[1;32m--> 124\u001b[0m     \u001b[39msuper\u001b[39;49m()\u001b[39m.\u001b[39;49m\u001b[39m__init__\u001b[39;49m(consumer_key, consumer_secret, access_token, \n\u001b[0;32m    125\u001b[0m                      access_token_secret, callback)\n",
      "File \u001b[1;32mc:\\Users\\yeyoc\\AppData\\Local\\Programs\\Python\\Python311\\Lib\\site-packages\\tweepy\\auth.py:31\u001b[0m, in \u001b[0;36mOAuth1UserHandler.__init__\u001b[1;34m(self, consumer_key, consumer_secret, access_token, access_token_secret, callback)\u001b[0m\n\u001b[0;32m     28\u001b[0m \u001b[39mdef\u001b[39;00m \u001b[39m__init__\u001b[39m(\u001b[39mself\u001b[39m, consumer_key, consumer_secret, access_token\u001b[39m=\u001b[39m\u001b[39mNone\u001b[39;00m,\n\u001b[0;32m     29\u001b[0m              access_token_secret\u001b[39m=\u001b[39m\u001b[39mNone\u001b[39;00m, callback\u001b[39m=\u001b[39m\u001b[39mNone\u001b[39;00m):\n\u001b[0;32m     30\u001b[0m     \u001b[39mif\u001b[39;00m \u001b[39mnot\u001b[39;00m \u001b[39misinstance\u001b[39m(consumer_key, (\u001b[39mstr\u001b[39m, \u001b[39mbytes\u001b[39m)):\n\u001b[1;32m---> 31\u001b[0m         \u001b[39mraise\u001b[39;00m \u001b[39mTypeError\u001b[39;00m(\u001b[39m\"\u001b[39m\u001b[39mConsumer key must be string or bytes, not \u001b[39m\u001b[39m\"\u001b[39m\n\u001b[0;32m     32\u001b[0m                         \u001b[39m+\u001b[39m \u001b[39mtype\u001b[39m(consumer_key)\u001b[39m.\u001b[39m\u001b[39m__name__\u001b[39m)\n\u001b[0;32m     33\u001b[0m     \u001b[39mif\u001b[39;00m \u001b[39mnot\u001b[39;00m \u001b[39misinstance\u001b[39m(consumer_secret, (\u001b[39mstr\u001b[39m, \u001b[39mbytes\u001b[39m)):\n\u001b[0;32m     34\u001b[0m         \u001b[39mraise\u001b[39;00m \u001b[39mTypeError\u001b[39;00m(\u001b[39m\"\u001b[39m\u001b[39mConsumer secret must be string or bytes, not \u001b[39m\u001b[39m\"\u001b[39m\n\u001b[0;32m     35\u001b[0m                         \u001b[39m+\u001b[39m \u001b[39mtype\u001b[39m(consumer_secret)\u001b[39m.\u001b[39m\u001b[39m__name__\u001b[39m)\n",
      "\u001b[1;31mTypeError\u001b[0m: Consumer key must be string or bytes, not NoneType"
     ]
    },
    {
     "ename": "",
     "evalue": "",
     "output_type": "error",
     "traceback": [
      "\u001b[1;31mThe Kernel crashed while executing code in the the current cell or a previous cell. Please review the code in the cell(s) to identify a possible cause of the failure. Click <a href='https://aka.ms/vscodeJupyterKernelCrash'>here</a> for more info. View Jupyter <a href='command:jupyter.viewOutput'>log</a> for further details."
     ]
    }
   ],
   "source": [
    "import tweepy\n",
    "from dotenv import load_dotenv\n",
    "import os\n",
    "\n",
    "if not load_dotenv():\n",
    "    print(\"Error al cargar el archivo .env.\")\n",
    "    exit()\n",
    "\n",
    "API_KEY = os.environ.get('TWITTER_API_KEY')\n",
    "API_SECRET = os.environ.get('TWITTER_API_SECRET')\n",
    "ACCESS_TOKEN = os.environ.get('TWITTER_ACCESS_TOKEN')\n",
    "ACCESS_TOKEN_SECRET = os.environ.get('TWITTER_ACCESS_TOKEN_SECRET')\n",
    "\n",
    "# Autenticarse en Twitter\n",
    "auth = tweepy.OAuthHandler(API_KEY, API_SECRET)\n",
    "auth.set_access_token(ACCESS_TOKEN, ACCESS_TOKEN_SECRET)\n",
    "api = tweepy.API(auth)\n",
    "\n",
    "# Función para cargar tweets\n",
    "def fetch_tweets(query, count=100):\n",
    "    return tweepy.Cursor(api.search, q=query, tweet_mode='extended', lang='es').items(count)"
   ]
  },
  {
   "cell_type": "code",
   "execution_count": 12,
   "metadata": {},
   "outputs": [
    {
     "name": "stdout",
     "output_type": "stream",
     "text": [
      "Conexión exitosa!\n"
     ]
    }
   ],
   "source": [
    "def test_connection():\n",
    "    try:\n",
    "        api.verify_credentials()  # Esto intentará verificar tus credenciales\n",
    "        print(\"Conexión exitosa!\")\n",
    "    except tweepy.error.TweepError as e:\n",
    "        print(\"Fallo en la conexión. Razón:\", e.reason)\n",
    "\n",
    "# Prueba la conexión\n",
    "test_connection()"
   ]
  }
 ],
 "metadata": {
  "kernelspec": {
   "display_name": "Python 3",
   "language": "python",
   "name": "python3"
  },
  "language_info": {
   "codemirror_mode": {
    "name": "ipython",
    "version": 3
   },
   "file_extension": ".py",
   "mimetype": "text/x-python",
   "name": "python",
   "nbconvert_exporter": "python",
   "pygments_lexer": "ipython3",
   "version": "3.11.5"
  },
  "orig_nbformat": 4
 },
 "nbformat": 4,
 "nbformat_minor": 2
}
